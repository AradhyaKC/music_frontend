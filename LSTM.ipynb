{
 "cells": [
  {
   "cell_type": "code",
   "execution_count": 2,
   "id": "85af264e",
   "metadata": {},
   "outputs": [],
   "source": [
    "import tensorflow.keras as keras\n",
    "import numpy as np\n",
    "import math\n",
    "import librosa\n",
    "import json\n",
    "from sklearn.model_selection import train_test_split\n",
    "import input_process\n",
    "import predict_genre"
   ]
  },
  {
   "cell_type": "code",
   "execution_count": 9,
   "id": "d66dcfd8",
   "metadata": {},
   "outputs": [],
   "source": [
    "import json\n",
    "\n",
    "# Load the model architecture from config.json\n",
    "with open('rnn.keras/config.json', 'r') as json_file:\n",
    "    model_config = json_file.read()\n",
    "\n",
    "model = keras.models.model_from_json(model_config)\n",
    "\n",
    "# Load the model weights\n",
    "model.load_weights('rnn.keras/model.weights.h5')\n",
    "\n",
    "# Now, you can use the loaded_model for predictions or further processing\n"
   ]
  },
  {
   "cell_type": "code",
   "execution_count": null,
   "id": "51d80227",
   "metadata": {},
   "outputs": [],
   "source": [
    "model=keras.models.load_model('rnn.keras/model.weights.h5')"
   ]
  },
  {
   "cell_type": "code",
   "execution_count": 12,
   "id": "c12c41aa",
   "metadata": {},
   "outputs": [
    {
     "name": "stdout",
     "output_type": "stream",
     "text": [
      "1/1 [==============================] - 0s 105ms/step\n",
      "Predicted genre is:  Metal\n"
     ]
    }
   ],
   "source": [
    "X_test=input_process.process('uploads/metal.00000.wav')\n",
    "prediction=model.predict(X_test)\n",
    "predicted_genre=predict_genre.index(prediction)\n",
    "print(\"Predicted genre is: \",predicted_genre)"
   ]
  },
  {
   "cell_type": "code",
   "execution_count": null,
   "id": "bac0998b",
   "metadata": {},
   "outputs": [],
   "source": []
  }
 ],
 "metadata": {
  "kernelspec": {
   "display_name": "Python 3 (ipykernel)",
   "language": "python",
   "name": "python3"
  },
  "language_info": {
   "codemirror_mode": {
    "name": "ipython",
    "version": 3
   },
   "file_extension": ".py",
   "mimetype": "text/x-python",
   "name": "python",
   "nbconvert_exporter": "python",
   "pygments_lexer": "ipython3",
   "version": "3.11.4"
  }
 },
 "nbformat": 4,
 "nbformat_minor": 5
}
